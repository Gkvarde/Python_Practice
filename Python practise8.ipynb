{
 "cells": [
  {
   "cell_type": "markdown",
   "id": "f960c37c",
   "metadata": {},
   "source": [
    "1. Is the Python Standard Library included with PyInputPlus? <br>\n",
    "Ans: PyInputPlus is not a part of the Python Standard Library, so we have to install it separately using pip. <br>\n",
    "\n",
    "2. Why is PyInputPlus commonly imported with import pyinputplus as pypi? <br>\n",
    "Ans: When we call module functions we can enter shorter name. <br>\n",
    "\n",
    "3. How do you distinguish between inputInt() and inputFloat()? <br>\n",
    "Ans: inputInt() accepts an integer value whereas inputFloat() accepts a floating point numeric value. <br>\n",
    "\n",
    "4. Using PyInputPlus, how do you ensure that the user enters a whole number between 0 and 99? <br>\n",
    "Ans: We have to use min, max parameters or greaterThan, lessThan parameters. <br>\n",
    "\n",
    "5. What is transferred to the keyword arguments allowRegexes and blockRegexes? <br>\n",
    "Ans: allowRegexes and blockRegexes takes a list of regular expression strings to determine \n",
    "what the PyInputPlus function would accept or reject. <br>\n",
    "    \n",
    "6. If a blank input is entered three times, what does inputStr(limit=3) do? <br>\n",
    "Ans: It will throw RetryLimitException exception. <br>\n",
    "\n",
    "7. If blank input is entered three times, what does inputStr(limit=3, default='hello') do? <br>\n",
    "Ans: When we use limit keyword arguments and also pass a default keyword argument, \n",
    "the function returns the default value instead of raising an exception.\n"
   ]
  }
 ],
 "metadata": {
  "kernelspec": {
   "display_name": "Python 3",
   "language": "python",
   "name": "python3"
  },
  "language_info": {
   "codemirror_mode": {
    "name": "ipython",
    "version": 3
   },
   "file_extension": ".py",
   "mimetype": "text/x-python",
   "name": "python",
   "nbconvert_exporter": "python",
   "pygments_lexer": "ipython3",
   "version": "3.8.8"
  }
 },
 "nbformat": 4,
 "nbformat_minor": 5
}

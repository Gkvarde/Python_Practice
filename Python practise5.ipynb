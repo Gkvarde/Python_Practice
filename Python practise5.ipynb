{
 "cells": [
  {
   "cell_type": "markdown",
   "id": "b7f2d577",
   "metadata": {},
   "source": [
    "1. What does an empty dictionary's code look like?\n",
    "Ans: d = {}\n",
    "\n",
    "2. What is the value of a dictionary value with the key 'foo' and the value 42?\n",
    "Ans: d = {'foo' : 42}\n",
    "\n",
    "3. What is the most significant distinction between a dictionary and a list?\n",
    "Ans: List is a collection of index value pairs and items stored in list are ordered whereas dictionary is a hashed structure of key and value pairs which makes dictionary more efficient than list because it takes less time to traverse in the dictionary than a list and items stored in dictionary are unordered.\n",
    "\n",
    "4. What happens if you try to access spam['foo'] if spam is {'bar': 100}?\n",
    "Ans: We will get KeyError since key 'foo' is not part of dictionary.\n",
    "\n",
    "5. If a dictionary is stored in spam, what is the difference between the expressions 'cat' in spam and 'cat' in spam.keys()?\n",
    "Ans: There is no difference since 'cat' in spam and 'cat' in spam.keys() both would check whether the key 'cat' is part of the dictionary as key or not.\n",
    "\n",
    "6. If a dictionary is stored in spam, what is the difference between the expressions 'cat' in spam and 'cat' in spam.values()?\n",
    "Ans: 'cat' in spam would check whether key 'cat' is part of dictionary as key or not whereas 'cat' in spam.values() would check whether 'cat' is part of the dictionary as value or not.\n",
    "\n",
    "7. What is a shortcut for the following code?\n",
    "if 'color' not in spam:\n",
    "spam['color'] = 'black'\n",
    "Ans: spam.setdefault('color','black')\n",
    "\n",
    "8. How do you \"pretty print\" dictionary values using which module and function?\n",
    "Ans: import pprint\n",
    "pprint.PrettyPrinter(sort_dicts=True)"
   ]
  }
 ],
 "metadata": {
  "kernelspec": {
   "display_name": "Python 3",
   "language": "python",
   "name": "python3"
  },
  "language_info": {
   "codemirror_mode": {
    "name": "ipython",
    "version": 3
   },
   "file_extension": ".py",
   "mimetype": "text/x-python",
   "name": "python",
   "nbconvert_exporter": "python",
   "pygments_lexer": "ipython3",
   "version": "3.8.8"
  }
 },
 "nbformat": 4,
 "nbformat_minor": 5
}

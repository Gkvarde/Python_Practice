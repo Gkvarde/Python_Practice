{
 "cells": [
  {
   "cell_type": "markdown",
   "id": "dfedb78e",
   "metadata": {},
   "source": [
    "1. To what does a relative path refer? <br>\n",
    "Ans: Relative paths are relative to current working directory. <br>\n",
    "\n",
    "2. What does an absolute path start with your operating system? <br>\n",
    "Ans: Absolute path starts with / or C:\\ that means root folder. <br>\n",
    "\n",
    "3. What do the functions os.getcwd() and os.chdir() do? <br>\n",
    "Ans: os.getcwd() returns current working directory and os.chdir() changes current working directory. <br>\n",
    "\n",
    "4. What are the . and .. folders? <br>\n",
    "Ans: The . is the current folder and .. is the parent folder. <br>\n",
    "\n",
    "5. In C:\\bacon\\eggs\\spam.txt, which part is the dir name, and which part is the base name? <br>\n",
    "Ans: C:\\bacon\\eggs is the directory name and spam.txt is the base name. <br>\n",
    "\n",
    "6. What are the three “mode” arguments that can be passed to the open() function? <br>\n",
    "Ans: 'r' is for read mode, 'w' is for write mode and 'a' is for append mode. <br>\n",
    "\n",
    "7. What happens if an existing file is opened in write mode? <br>\n",
    "Ans: An existing file opened in write mode is erased and completely overwritten. <br>\n",
    "\n",
    "8. How do you tell the difference between read() and readlines()? <br>\n",
    "Ans: The read() method returns the file's entire contents as a single string value. The readlines() method returns list of stings where each string is line from file's contents. <br>\n",
    "\n",
    "9. What data structure does a shelf value resemble? <br>\n",
    "Ans: A shelf value resembles a dictionary value; it has keys and values, along with keys() and values() methods that work similarly to the dictionary methods of the same names."
   ]
  }
 ],
 "metadata": {
  "kernelspec": {
   "display_name": "Python 3",
   "language": "python",
   "name": "python3"
  },
  "language_info": {
   "codemirror_mode": {
    "name": "ipython",
    "version": 3
   },
   "file_extension": ".py",
   "mimetype": "text/x-python",
   "name": "python",
   "nbconvert_exporter": "python",
   "pygments_lexer": "ipython3",
   "version": "3.8.8"
  }
 },
 "nbformat": 4,
 "nbformat_minor": 5
}

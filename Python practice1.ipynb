{
 "cells": [
  {
   "cell_type": "markdown",
   "id": "5fc7ab5b",
   "metadata": {},
   "source": [
    "1. In the below elements which of them are values or an expression? eg:- values can be integer or string and expressions will be mathematical operators.\n",
    "* \n",
    "'hello'\n",
    "-87.8\n",
    "- \n",
    "/ \n",
    "+\t\n",
    "6 \n",
    "Ans: *, -, /, + are expressions(mathematical operators) and ‘hello’, -87.8, 6 are values.\n",
    "\n",
    "2. What is the difference between string and variable?\n",
    "Ans: variable is the entity to which we assign values and string is the values which is embedded with quotation mark.\n",
    "\n",
    "3. Describe three different data types.\n",
    "Ans: integer – integer values, string – value which is embedded with quotation mark, float – floating point numbers, bool - True(1) or False(0), complex – combination of real and imaginary numbers\n",
    "\n",
    "4. What is an expression made up of? What do all expressions do?\n",
    "Ans: Expression is a combination of variables, operators and values. An expression is evaluated as per precedence of its operators. If there is more than one operators in an expression, their precedence decides which operation will be performed first.\n",
    "\n",
    "5. This assignment statements, like spam = 10. What is the difference between an expression and a statement?\n",
    "Ans: spam = 10 is an assignment statement. Statement is something that python interpreter executes. Any instruction that python interpreter can execute is call a statement. spam = 10 is an expression also. Expessions are statements also,\n",
    "\n",
    "6. After running the following code, what does the variable bacon contain?\n",
    "bacon = 22\n",
    "bacon + 1\n",
    "Ans: 23\n",
    "\n",
    "7. What should the values of the following two terms be?\n",
    "'spam' + 'spamspam'\n",
    "'spam' * 3\n",
    "Ans: ‘spamspamspam’ and ‘spamspamspam’\n",
    "\n",
    "8. Why is eggs a valid variable name while 100 is invalid?\n",
    "Ans: variable name must start with a letter or underscore, variable name can not start with a number. Here, eggs starts with a latter so it is valid variable name in python but 100 is not since it starts with a number.\n",
    "\n",
    "9. What three functions can be used to get the integer, floating-point number, or string version of a value?\n",
    "Ans: int(), float(), str() can be used to get integer, floating-point number, or string version of a value respectively.\n",
    "\n",
    "10. Why does this expression cause an error? How can you fix it?\n",
    "'I have eaten ' + 99 + ' burritos.'\n",
    "Ans: Since it can only concatenate string to string and not integer to string.\n",
    "To fix this we shall use str(99) or ‘99’ instead of 99.\n",
    "\n"
   ]
  }
 ],
 "metadata": {
  "kernelspec": {
   "display_name": "Python 3",
   "language": "python",
   "name": "python3"
  },
  "language_info": {
   "codemirror_mode": {
    "name": "ipython",
    "version": 3
   },
   "file_extension": ".py",
   "mimetype": "text/x-python",
   "name": "python",
   "nbconvert_exporter": "python",
   "pygments_lexer": "ipython3",
   "version": "3.8.8"
  }
 },
 "nbformat": 4,
 "nbformat_minor": 5
}

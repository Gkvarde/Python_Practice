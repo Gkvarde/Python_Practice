{
 "cells": [
  {
   "cell_type": "markdown",
   "id": "7f200fb5",
   "metadata": {},
   "source": [
    "1. Why are functions advantageous to have in your programs?\n",
    "Ans: Once function has been created in programs then we can re-use it any number of times by just calling it instead of re-writing the codes multiple times. It will increase the re-usability of the code.\n",
    "\n",
    "2. When does the code in a function run: when it's specified or when it's called?\n",
    "Ans: Code in a function runs when it's called.\n",
    "\n",
    "3. What statement creates a function?\n",
    "Ans: Statement starting with \"def\" would create a function.\n",
    "\n",
    "4. What is the difference between a function and a function call?\n",
    "Ans: When we define a function it will just create a function but when we call that function, code written inside a function would execute.\n",
    "\n",
    "5. How many global scopes are there in a Python program? How many local scopes?\n",
    "Ans: There is only one global python scope per program execution. We will have as many different local scopes as function calls. \n",
    "\n",
    "6. What happens to variables in a local scope when the function call returns?\n",
    "Ans: local variables destroy/disappear after the function returns.\n",
    "\n",
    "7. What is the concept of a return value? Is it possible to have a return value in an expression?\n",
    "Ans: return statement returns the results or value of expression which is mentioned after return keyword. If return statement is without any expression then the special value None is returned.\n",
    "\n",
    "8. If a function does not have a return statement, what is the return value of a call to that function?\n",
    "Ans: The function always returns None if explicit return is not written.\n",
    "\n",
    "9. How do you make a function variable refer to the global variable?\n",
    "Ans: We need to use global keyword inside the function to make a function variable to refer global variable. \n",
    "\n",
    "10. What is the data type of None?\n",
    "Ans: Data type of None is NoneType.\n",
    "\n",
    "11. What does the sentence import areallyourpetsnamederic do?\n",
    "Ans: it will import module called areallyourpetsnamederic.\n",
    "\n",
    "12. If you had a bacon() feature in a spam module, what would you call it after importing spam?\n",
    "Ans: spam.bacon()\n",
    "\n",
    "13. What can you do to save a programme from crashing if it encounters an error?\n",
    "Ans: We use error handling(try-except or try-except-finally) to save a programme from crashing if it encounters an error.\n",
    "\n",
    "14. What is the purpose of the try clause? What is the purpose of the except clause?\n",
    "Ans: Try clause would test a block of code for errors and except clause to handle errors."
   ]
  }
 ],
 "metadata": {
  "kernelspec": {
   "display_name": "Python 3",
   "language": "python",
   "name": "python3"
  },
  "language_info": {
   "codemirror_mode": {
    "name": "ipython",
    "version": 3
   },
   "file_extension": ".py",
   "mimetype": "text/x-python",
   "name": "python",
   "nbconvert_exporter": "python",
   "pygments_lexer": "ipython3",
   "version": "3.8.8"
  }
 },
 "nbformat": 4,
 "nbformat_minor": 5
}
